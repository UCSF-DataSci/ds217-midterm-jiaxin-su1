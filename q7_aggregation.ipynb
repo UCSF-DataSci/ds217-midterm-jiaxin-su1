{
 "cells": [
  {
   "cell_type": "markdown",
   "metadata": {},
   "source": [
    "# Assignment 5, Question 7: Group Operations & Final Analysis\n",
    "\n",
    "**Points: 15**\n",
    "\n",
    "Perform grouped analysis and create summary reports."
   ]
  },
  {
   "cell_type": "markdown",
   "metadata": {},
   "source": [
    "## Setup"
   ]
  },
  {
   "cell_type": "code",
   "execution_count": 226,
   "metadata": {},
   "outputs": [
    {
     "name": "stdout",
     "output_type": "stream",
     "text": [
      "Loaded 10000 patients\n"
     ]
    }
   ],
   "source": [
    "import pandas as pd\n",
    "import numpy as np\n",
    "import matplotlib.pyplot as plt\n",
    "\n",
    "# Import utilities\n",
    "from q3_data_utils import load_data, summarize_by_group\n",
    "\n",
    "df = load_data('data/clinical_trial_raw.csv')\n",
    "print(f\"Loaded {len(df)} patients\")\n",
    "\n",
    "# Prewritten visualization function for grouped analysis\n",
    "def plot_group_comparison(data, x_col, y_col, title):\n",
    "    \"\"\"\n",
    "    Create a bar chart comparing groups.\n",
    "    \n",
    "    Args:\n",
    "        data: DataFrame with grouped data\n",
    "        x_col: Column name for x-axis (groups)\n",
    "        y_col: Column name for y-axis (values)\n",
    "        title: Chart title\n",
    "    \"\"\"\n",
    "    plt.figure(figsize=(10, 6))\n",
    "    data.plot(x=x_col, y=y_col, kind='bar')\n",
    "    plt.title(title)\n",
    "    plt.xticks(rotation=45)\n",
    "    plt.tight_layout()\n",
    "    plt.show()"
   ]
  },
  {
   "cell_type": "code",
   "execution_count": 227,
   "metadata": {},
   "outputs": [
    {
     "data": {
      "text/html": [
       "<div>\n",
       "<style scoped>\n",
       "    .dataframe tbody tr th:only-of-type {\n",
       "        vertical-align: middle;\n",
       "    }\n",
       "\n",
       "    .dataframe tbody tr th {\n",
       "        vertical-align: top;\n",
       "    }\n",
       "\n",
       "    .dataframe thead th {\n",
       "        text-align: right;\n",
       "    }\n",
       "</style>\n",
       "<table border=\"1\" class=\"dataframe\">\n",
       "  <thead>\n",
       "    <tr style=\"text-align: right;\">\n",
       "      <th></th>\n",
       "      <th>patient_id</th>\n",
       "      <th>age</th>\n",
       "      <th>sex</th>\n",
       "      <th>bmi</th>\n",
       "      <th>enrollment_date</th>\n",
       "      <th>systolic_bp</th>\n",
       "      <th>diastolic_bp</th>\n",
       "      <th>cholesterol_total</th>\n",
       "      <th>cholesterol_hdl</th>\n",
       "      <th>cholesterol_ldl</th>\n",
       "      <th>glucose_fasting</th>\n",
       "      <th>site</th>\n",
       "      <th>intervention_group</th>\n",
       "      <th>follow_up_months</th>\n",
       "      <th>adverse_events</th>\n",
       "      <th>outcome_cvd</th>\n",
       "      <th>adherence_pct</th>\n",
       "      <th>dropout</th>\n",
       "    </tr>\n",
       "  </thead>\n",
       "  <tbody>\n",
       "    <tr>\n",
       "      <th>0</th>\n",
       "      <td>P00001</td>\n",
       "      <td>80</td>\n",
       "      <td>F</td>\n",
       "      <td>29.3</td>\n",
       "      <td>2022-05-01</td>\n",
       "      <td>123.0</td>\n",
       "      <td>80.0</td>\n",
       "      <td>120.0</td>\n",
       "      <td>55.0</td>\n",
       "      <td>41.0</td>\n",
       "      <td>118.0</td>\n",
       "      <td>site b</td>\n",
       "      <td>Control</td>\n",
       "      <td>20</td>\n",
       "      <td>0</td>\n",
       "      <td>No</td>\n",
       "      <td>24.0</td>\n",
       "      <td>No</td>\n",
       "    </tr>\n",
       "    <tr>\n",
       "      <th>1</th>\n",
       "      <td>P00002</td>\n",
       "      <td>80</td>\n",
       "      <td>Female</td>\n",
       "      <td>NaN</td>\n",
       "      <td>2022-01-06</td>\n",
       "      <td>139.0</td>\n",
       "      <td>81.0</td>\n",
       "      <td>206.0</td>\n",
       "      <td>58.0</td>\n",
       "      <td>107.0</td>\n",
       "      <td>79.0</td>\n",
       "      <td>Site A</td>\n",
       "      <td>CONTROL</td>\n",
       "      <td>24</td>\n",
       "      <td>0</td>\n",
       "      <td>No</td>\n",
       "      <td>77.0</td>\n",
       "      <td>No</td>\n",
       "    </tr>\n",
       "    <tr>\n",
       "      <th>2</th>\n",
       "      <td>P00003</td>\n",
       "      <td>82</td>\n",
       "      <td>Female</td>\n",
       "      <td>-1.0</td>\n",
       "      <td>2023-11-04</td>\n",
       "      <td>123.0</td>\n",
       "      <td>86.0</td>\n",
       "      <td>172.0</td>\n",
       "      <td>56.0</td>\n",
       "      <td>82.0</td>\n",
       "      <td>77.0</td>\n",
       "      <td>SITE C</td>\n",
       "      <td>treatment b</td>\n",
       "      <td>2</td>\n",
       "      <td>0</td>\n",
       "      <td>Yes</td>\n",
       "      <td>70.0</td>\n",
       "      <td>No</td>\n",
       "    </tr>\n",
       "    <tr>\n",
       "      <th>3</th>\n",
       "      <td>P00004</td>\n",
       "      <td>95</td>\n",
       "      <td>Female</td>\n",
       "      <td>25.4</td>\n",
       "      <td>2022-08-15</td>\n",
       "      <td>116.0</td>\n",
       "      <td>77.0</td>\n",
       "      <td>200.0</td>\n",
       "      <td>56.0</td>\n",
       "      <td>104.0</td>\n",
       "      <td>115.0</td>\n",
       "      <td>Site D</td>\n",
       "      <td>treatment b</td>\n",
       "      <td>17</td>\n",
       "      <td>0</td>\n",
       "      <td>No</td>\n",
       "      <td>62.0</td>\n",
       "      <td>No</td>\n",
       "    </tr>\n",
       "    <tr>\n",
       "      <th>4</th>\n",
       "      <td>P00005</td>\n",
       "      <td>95</td>\n",
       "      <td>M</td>\n",
       "      <td>NaN</td>\n",
       "      <td>2023-04-17</td>\n",
       "      <td>97.0</td>\n",
       "      <td>71.0</td>\n",
       "      <td>185.0</td>\n",
       "      <td>78.0</td>\n",
       "      <td>75.0</td>\n",
       "      <td>113.0</td>\n",
       "      <td>site e</td>\n",
       "      <td>Treatmen A</td>\n",
       "      <td>9</td>\n",
       "      <td>0</td>\n",
       "      <td>yes</td>\n",
       "      <td>NaN</td>\n",
       "      <td>Yes</td>\n",
       "    </tr>\n",
       "  </tbody>\n",
       "</table>\n",
       "</div>"
      ],
      "text/plain": [
       "  patient_id  age         sex   bmi enrollment_date  systolic_bp  \\\n",
       "0     P00001   80           F  29.3      2022-05-01        123.0   \n",
       "1     P00002   80    Female     NaN      2022-01-06        139.0   \n",
       "2     P00003   82      Female  -1.0      2023-11-04        123.0   \n",
       "3     P00004   95      Female  25.4      2022-08-15        116.0   \n",
       "4     P00005   95           M   NaN      2023-04-17         97.0   \n",
       "\n",
       "   diastolic_bp  cholesterol_total  cholesterol_hdl  cholesterol_ldl  \\\n",
       "0          80.0              120.0             55.0             41.0   \n",
       "1          81.0              206.0             58.0            107.0   \n",
       "2          86.0              172.0             56.0             82.0   \n",
       "3          77.0              200.0             56.0            104.0   \n",
       "4          71.0              185.0             78.0             75.0   \n",
       "\n",
       "   glucose_fasting    site intervention_group  follow_up_months  \\\n",
       "0            118.0  site b            Control                20   \n",
       "1             79.0  Site A            CONTROL                24   \n",
       "2             77.0  SITE C      treatment b                   2   \n",
       "3            115.0  Site D        treatment b                17   \n",
       "4            113.0  site e         Treatmen A                 9   \n",
       "\n",
       "   adverse_events outcome_cvd  adherence_pct dropout  \n",
       "0               0          No           24.0      No  \n",
       "1               0          No           77.0      No  \n",
       "2               0         Yes           70.0      No  \n",
       "3               0          No           62.0      No  \n",
       "4               0         yes            NaN     Yes  "
      ]
     },
     "execution_count": 227,
     "metadata": {},
     "output_type": "execute_result"
    }
   ],
   "source": [
    "df.head()"
   ]
  },
  {
   "cell_type": "markdown",
   "metadata": {},
   "source": [
    "## Part 1: Basic Groupby (5 points)\n",
    "\n",
    "1. Group by 'site' and calculate mean age, BMI, and blood pressure\n",
    "2. Group by 'intervention_group' and count patients\n",
    "3. Use the `summarize_by_group()` utility to get overall statistics by site"
   ]
  },
  {
   "cell_type": "code",
   "execution_count": 228,
   "metadata": {},
   "outputs": [
    {
     "data": {
      "text/html": [
       "<div>\n",
       "<style scoped>\n",
       "    .dataframe tbody tr th:only-of-type {\n",
       "        vertical-align: middle;\n",
       "    }\n",
       "\n",
       "    .dataframe tbody tr th {\n",
       "        vertical-align: top;\n",
       "    }\n",
       "\n",
       "    .dataframe thead th {\n",
       "        text-align: right;\n",
       "    }\n",
       "</style>\n",
       "<table border=\"1\" class=\"dataframe\">\n",
       "  <thead>\n",
       "    <tr style=\"text-align: right;\">\n",
       "      <th></th>\n",
       "      <th>site</th>\n",
       "      <th>age</th>\n",
       "      <th>bmi</th>\n",
       "      <th>systolic_bp</th>\n",
       "    </tr>\n",
       "  </thead>\n",
       "  <tbody>\n",
       "    <tr>\n",
       "      <th>0</th>\n",
       "      <td>site a</td>\n",
       "      <td>56.364005</td>\n",
       "      <td>25.875183</td>\n",
       "      <td>117.354284</td>\n",
       "    </tr>\n",
       "    <tr>\n",
       "      <th>1</th>\n",
       "      <td>site b</td>\n",
       "      <td>62.401957</td>\n",
       "      <td>25.706681</td>\n",
       "      <td>117.130675</td>\n",
       "    </tr>\n",
       "    <tr>\n",
       "      <th>2</th>\n",
       "      <td>site c</td>\n",
       "      <td>57.312108</td>\n",
       "      <td>25.789583</td>\n",
       "      <td>117.978359</td>\n",
       "    </tr>\n",
       "    <tr>\n",
       "      <th>3</th>\n",
       "      <td>site d</td>\n",
       "      <td>63.491006</td>\n",
       "      <td>25.565682</td>\n",
       "      <td>117.943662</td>\n",
       "    </tr>\n",
       "    <tr>\n",
       "      <th>4</th>\n",
       "      <td>site e</td>\n",
       "      <td>57.064897</td>\n",
       "      <td>25.476502</td>\n",
       "      <td>117.503080</td>\n",
       "    </tr>\n",
       "  </tbody>\n",
       "</table>\n",
       "</div>"
      ],
      "text/plain": [
       "     site        age        bmi  systolic_bp\n",
       "0  site a  56.364005  25.875183   117.354284\n",
       "1  site b  62.401957  25.706681   117.130675\n",
       "2  site c  57.312108  25.789583   117.978359\n",
       "3  site d  63.491006  25.565682   117.943662\n",
       "4  site e  57.064897  25.476502   117.503080"
      ]
     },
     "execution_count": 228,
     "metadata": {},
     "output_type": "execute_result"
    }
   ],
   "source": [
    "# TODO: Group by site\n",
    "# Group by 'site' and calculate mean of age, BMI, and blood pressure\n",
    "string_columns = ['sex','site', 'intervention_group', 'outcome_cvd', 'dropout']\n",
    "df[string_columns] = df[string_columns].apply(lambda x: x.str.strip().str.lower())\n",
    "\n",
    "df_clean = df.replace({\"f\": \"female\", \"m\": \"female\", \n",
    "                \"treatmen a\": \"treatment a\", \"treatmenta\": \"treatment a\",\n",
    "                \"treatment  b\": \"treatment b\",\n",
    "                \"contrl\": \"control\",\n",
    "                \"site  a\": \"site a\",\n",
    "                \"site_d\": \"site d\"\n",
    "                                    })\n",
    "site_summary = (\n",
    "    df_clean.groupby('site')[['age', 'bmi', 'systolic_bp']]\n",
    "      .mean()\n",
    "      .reset_index()\n",
    ")\n",
    "\n",
    "site_summary.head()"
   ]
  },
  {
   "cell_type": "code",
   "execution_count": 229,
   "metadata": {},
   "outputs": [
    {
     "data": {
      "text/html": [
       "<div>\n",
       "<style scoped>\n",
       "    .dataframe tbody tr th:only-of-type {\n",
       "        vertical-align: middle;\n",
       "    }\n",
       "\n",
       "    .dataframe tbody tr th {\n",
       "        vertical-align: top;\n",
       "    }\n",
       "\n",
       "    .dataframe thead th {\n",
       "        text-align: right;\n",
       "    }\n",
       "</style>\n",
       "<table border=\"1\" class=\"dataframe\">\n",
       "  <thead>\n",
       "    <tr style=\"text-align: right;\">\n",
       "      <th></th>\n",
       "      <th>intervention_group</th>\n",
       "      <th>count</th>\n",
       "    </tr>\n",
       "  </thead>\n",
       "  <tbody>\n",
       "    <tr>\n",
       "      <th>0</th>\n",
       "      <td>control</td>\n",
       "      <td>3337</td>\n",
       "    </tr>\n",
       "    <tr>\n",
       "      <th>1</th>\n",
       "      <td>treatment a</td>\n",
       "      <td>3321</td>\n",
       "    </tr>\n",
       "    <tr>\n",
       "      <th>2</th>\n",
       "      <td>treatment b</td>\n",
       "      <td>3342</td>\n",
       "    </tr>\n",
       "  </tbody>\n",
       "</table>\n",
       "</div>"
      ],
      "text/plain": [
       "  intervention_group  count\n",
       "0            control   3337\n",
       "1        treatment a   3321\n",
       "2        treatment b   3342"
      ]
     },
     "execution_count": 229,
     "metadata": {},
     "output_type": "execute_result"
    }
   ],
   "source": [
    "# TODO: Count by intervention group\n",
    "groupby_intervention_count = df_clean.groupby('intervention_group')[\"patient_id\"].agg(['count']).reset_index()\n",
    "groupby_intervention_count.head()"
   ]
  },
  {
   "cell_type": "markdown",
   "metadata": {},
   "source": [
    "**Note:** The `summarize_by_group()` function has an optional `agg_dict` parameter for custom aggregations. If you don't specify it, it will use `.describe()` on numeric columns. You can use `agg_dict={'age': ['mean', 'std'], 'bmi': 'mean'}` for custom aggregations.\n"
   ]
  },
  {
   "cell_type": "code",
   "execution_count": 230,
   "metadata": {},
   "outputs": [
    {
     "data": {
      "text/html": [
       "<div>\n",
       "<style scoped>\n",
       "    .dataframe tbody tr th:only-of-type {\n",
       "        vertical-align: middle;\n",
       "    }\n",
       "\n",
       "    .dataframe tbody tr th {\n",
       "        vertical-align: top;\n",
       "    }\n",
       "\n",
       "    .dataframe thead th {\n",
       "        text-align: right;\n",
       "    }\n",
       "</style>\n",
       "<table border=\"1\" class=\"dataframe\">\n",
       "  <thead>\n",
       "    <tr style=\"text-align: right;\">\n",
       "      <th></th>\n",
       "      <th>age_mean</th>\n",
       "      <th>age_std</th>\n",
       "      <th>bmi_mean</th>\n",
       "    </tr>\n",
       "    <tr>\n",
       "      <th>site</th>\n",
       "      <th></th>\n",
       "      <th></th>\n",
       "      <th></th>\n",
       "    </tr>\n",
       "  </thead>\n",
       "  <tbody>\n",
       "    <tr>\n",
       "      <th>site a</th>\n",
       "      <td>56.364005</td>\n",
       "      <td>162.536292</td>\n",
       "      <td>25.875183</td>\n",
       "    </tr>\n",
       "    <tr>\n",
       "      <th>site b</th>\n",
       "      <td>62.401957</td>\n",
       "      <td>139.050180</td>\n",
       "      <td>25.706681</td>\n",
       "    </tr>\n",
       "    <tr>\n",
       "      <th>site c</th>\n",
       "      <td>57.312108</td>\n",
       "      <td>157.941868</td>\n",
       "      <td>25.789583</td>\n",
       "    </tr>\n",
       "    <tr>\n",
       "      <th>site d</th>\n",
       "      <td>63.491006</td>\n",
       "      <td>136.140058</td>\n",
       "      <td>25.565682</td>\n",
       "    </tr>\n",
       "    <tr>\n",
       "      <th>site e</th>\n",
       "      <td>57.064897</td>\n",
       "      <td>157.697644</td>\n",
       "      <td>25.476502</td>\n",
       "    </tr>\n",
       "  </tbody>\n",
       "</table>\n",
       "</div>"
      ],
      "text/plain": [
       "         age_mean     age_std   bmi_mean\n",
       "site                                    \n",
       "site a  56.364005  162.536292  25.875183\n",
       "site b  62.401957  139.050180  25.706681\n",
       "site c  57.312108  157.941868  25.789583\n",
       "site d  63.491006  136.140058  25.565682\n",
       "site e  57.064897  157.697644  25.476502"
      ]
     },
     "execution_count": 230,
     "metadata": {},
     "output_type": "execute_result"
    }
   ],
   "source": [
    "# TODO: Use summarize_by_group utility\n",
    "statistics_by_site = summarize_by_group(df_clean, 'site', {'age': ['mean', 'std'], 'bmi': 'mean'})  \n",
    "\n",
    "statistics_by_site.columns = ['_'.join(col).strip() for col in statistics_by_site.columns]\n",
    "statistics_by_site.head()"
   ]
  },
  {
   "cell_type": "markdown",
   "metadata": {},
   "source": [
    "## Part 2: Multiple Aggregations (5 points)\n",
    "\n",
    "Group by 'site' and apply multiple aggregations:\n",
    "- age: mean, std, min, max\n",
    "- bmi: mean, std\n",
    "- systolic_bp: mean, median\n",
    "\n",
    "Display the results in a well-formatted table."
   ]
  },
  {
   "cell_type": "code",
   "execution_count": 231,
   "metadata": {},
   "outputs": [
    {
     "data": {
      "text/html": [
       "<div>\n",
       "<style scoped>\n",
       "    .dataframe tbody tr th:only-of-type {\n",
       "        vertical-align: middle;\n",
       "    }\n",
       "\n",
       "    .dataframe tbody tr th {\n",
       "        vertical-align: top;\n",
       "    }\n",
       "\n",
       "    .dataframe thead th {\n",
       "        text-align: right;\n",
       "    }\n",
       "</style>\n",
       "<table border=\"1\" class=\"dataframe\">\n",
       "  <thead>\n",
       "    <tr style=\"text-align: right;\">\n",
       "      <th></th>\n",
       "      <th>age_mean</th>\n",
       "      <th>age_std</th>\n",
       "      <th>age_min</th>\n",
       "      <th>age_max</th>\n",
       "      <th>bmi_mean</th>\n",
       "      <th>bmi_std</th>\n",
       "      <th>systolic_bp_mean</th>\n",
       "      <th>systolic_bp_median</th>\n",
       "    </tr>\n",
       "    <tr>\n",
       "      <th>site</th>\n",
       "      <th></th>\n",
       "      <th></th>\n",
       "      <th></th>\n",
       "      <th></th>\n",
       "      <th></th>\n",
       "      <th></th>\n",
       "      <th></th>\n",
       "      <th></th>\n",
       "    </tr>\n",
       "  </thead>\n",
       "  <tbody>\n",
       "    <tr>\n",
       "      <th>site a</th>\n",
       "      <td>56.36</td>\n",
       "      <td>162.54</td>\n",
       "      <td>-999</td>\n",
       "      <td>100</td>\n",
       "      <td>25.88</td>\n",
       "      <td>4.98</td>\n",
       "      <td>117.35</td>\n",
       "      <td>117.0</td>\n",
       "    </tr>\n",
       "    <tr>\n",
       "      <th>site b</th>\n",
       "      <td>62.40</td>\n",
       "      <td>139.05</td>\n",
       "      <td>-999</td>\n",
       "      <td>100</td>\n",
       "      <td>25.71</td>\n",
       "      <td>5.02</td>\n",
       "      <td>117.13</td>\n",
       "      <td>117.0</td>\n",
       "    </tr>\n",
       "    <tr>\n",
       "      <th>site c</th>\n",
       "      <td>57.31</td>\n",
       "      <td>157.94</td>\n",
       "      <td>-999</td>\n",
       "      <td>100</td>\n",
       "      <td>25.79</td>\n",
       "      <td>5.42</td>\n",
       "      <td>117.98</td>\n",
       "      <td>118.0</td>\n",
       "    </tr>\n",
       "    <tr>\n",
       "      <th>site d</th>\n",
       "      <td>63.49</td>\n",
       "      <td>136.14</td>\n",
       "      <td>-999</td>\n",
       "      <td>100</td>\n",
       "      <td>25.57</td>\n",
       "      <td>5.88</td>\n",
       "      <td>117.94</td>\n",
       "      <td>118.0</td>\n",
       "    </tr>\n",
       "    <tr>\n",
       "      <th>site e</th>\n",
       "      <td>57.06</td>\n",
       "      <td>157.70</td>\n",
       "      <td>-999</td>\n",
       "      <td>100</td>\n",
       "      <td>25.48</td>\n",
       "      <td>6.08</td>\n",
       "      <td>117.50</td>\n",
       "      <td>117.0</td>\n",
       "    </tr>\n",
       "  </tbody>\n",
       "</table>\n",
       "</div>"
      ],
      "text/plain": [
       "        age_mean  age_std  age_min  age_max  bmi_mean  bmi_std  \\\n",
       "site                                                             \n",
       "site a     56.36   162.54     -999      100     25.88     4.98   \n",
       "site b     62.40   139.05     -999      100     25.71     5.02   \n",
       "site c     57.31   157.94     -999      100     25.79     5.42   \n",
       "site d     63.49   136.14     -999      100     25.57     5.88   \n",
       "site e     57.06   157.70     -999      100     25.48     6.08   \n",
       "\n",
       "        systolic_bp_mean  systolic_bp_median  \n",
       "site                                          \n",
       "site a            117.35               117.0  \n",
       "site b            117.13               117.0  \n",
       "site c            117.98               118.0  \n",
       "site d            117.94               118.0  \n",
       "site e            117.50               117.0  "
      ]
     },
     "execution_count": 231,
     "metadata": {},
     "output_type": "execute_result"
    }
   ],
   "source": [
    "# TODO: Multiple aggregations\n",
    "summary = (\n",
    "    df_clean.groupby('site')\n",
    "      .agg({\n",
    "          'age': ['mean', 'std', 'min', 'max'],\n",
    "          'bmi': ['mean', 'std'],\n",
    "          'systolic_bp': ['mean', 'median']\n",
    "      })\n",
    ")\n",
    "summary.columns = ['_'.join(col).strip() for col in summary.columns]\n",
    "\n",
    "summary.round(2).head()"
   ]
  },
  {
   "cell_type": "markdown",
   "metadata": {},
   "source": [
    "## Part 3: Comparative Analysis (5 points)\n",
    "\n",
    "Compare intervention groups:\n",
    "1. Calculate mean outcome_cvd rate by intervention_group\n",
    "2. Calculate mean adherence_pct by intervention_group\n",
    "3. Create a cross-tabulation of intervention_group vs dropout status\n",
    "4. Visualize the comparison with a bar plot"
   ]
  },
  {
   "cell_type": "code",
   "execution_count": 232,
   "metadata": {},
   "outputs": [
    {
     "name": "stdout",
     "output_type": "stream",
     "text": [
      "  intervention_group  mean_outcome_cvd_rate\n",
      "0            control               0.336530\n",
      "1        treatment a               0.319482\n",
      "2        treatment b               0.333633\n"
     ]
    }
   ],
   "source": [
    "# TODO: Intervention group comparisons\n",
    "df_clean.head()\n",
    "#Calculate mean outcome_cvd rate by intervention_group\n",
    "# Convert 'outcome_cvd' to numeric (1 for \"yes\", 0 for \"no\")\n",
    "df_clean[\"outcome_cvd_num\"] = df_clean[\"outcome_cvd\"].map({\"yes\": 1, \"no\": 0})\n",
    "\n",
    "# Group by intervention group and calculate mean rate of CVD\n",
    "cvd_rate = (\n",
    "    df_clean.groupby(\"intervention_group\")[\"outcome_cvd_num\"]\n",
    "      .mean()\n",
    "      .reset_index(name=\"mean_outcome_cvd_rate\")\n",
    ")\n",
    "\n",
    "print(cvd_rate)\n",
    "\n",
    "# Calculate mean adherence_pct by intervention_group\n",
    "mean_adherence_pct_intervention = summarize_by_group(\n",
    "    df_clean, \n",
    "    'intervention_group', \n",
    "    {'adherence_pct': 'mean'}\n",
    ").reset_index()\n",
    "\n"
   ]
  },
  {
   "cell_type": "code",
   "execution_count": 233,
   "metadata": {},
   "outputs": [
    {
     "data": {
      "text/html": [
       "<div>\n",
       "<style scoped>\n",
       "    .dataframe tbody tr th:only-of-type {\n",
       "        vertical-align: middle;\n",
       "    }\n",
       "\n",
       "    .dataframe tbody tr th {\n",
       "        vertical-align: top;\n",
       "    }\n",
       "\n",
       "    .dataframe thead th {\n",
       "        text-align: right;\n",
       "    }\n",
       "</style>\n",
       "<table border=\"1\" class=\"dataframe\">\n",
       "  <thead>\n",
       "    <tr style=\"text-align: right;\">\n",
       "      <th>dropout</th>\n",
       "      <th>no</th>\n",
       "      <th>yes</th>\n",
       "    </tr>\n",
       "    <tr>\n",
       "      <th>intervention_group</th>\n",
       "      <th></th>\n",
       "      <th></th>\n",
       "    </tr>\n",
       "  </thead>\n",
       "  <tbody>\n",
       "    <tr>\n",
       "      <th>control</th>\n",
       "      <td>0.848367</td>\n",
       "      <td>0.151633</td>\n",
       "    </tr>\n",
       "    <tr>\n",
       "      <th>treatment a</th>\n",
       "      <td>0.852454</td>\n",
       "      <td>0.147546</td>\n",
       "    </tr>\n",
       "    <tr>\n",
       "      <th>treatment b</th>\n",
       "      <td>0.859066</td>\n",
       "      <td>0.140934</td>\n",
       "    </tr>\n",
       "  </tbody>\n",
       "</table>\n",
       "</div>"
      ],
      "text/plain": [
       "dropout                   no       yes\n",
       "intervention_group                    \n",
       "control             0.848367  0.151633\n",
       "treatment a         0.852454  0.147546\n",
       "treatment b         0.859066  0.140934"
      ]
     },
     "execution_count": 233,
     "metadata": {},
     "output_type": "execute_result"
    }
   ],
   "source": [
    "#Create a cross-tabulation of intervention_group vs dropout status\n",
    "dropout_crosstab = pd.crosstab(df_clean['intervention_group'], df_clean['dropout'], normalize='index')\n",
    "dropout_crosstab"
   ]
  },
  {
   "cell_type": "code",
   "execution_count": 234,
   "metadata": {},
   "outputs": [
    {
     "data": {
      "text/plain": [
       "<Figure size 1000x600 with 0 Axes>"
      ]
     },
     "metadata": {},
     "output_type": "display_data"
    },
    {
     "data": {
      "image/png": "[encoded data removed]",
      "text/plain": [
       "<Figure size 640x480 with 1 Axes>"
      ]
     },
     "metadata": {},
     "output_type": "display_data"
    },
    {
     "data": {
      "text/plain": [
       "<Figure size 1000x600 with 0 Axes>"
      ]
     },
     "metadata": {},
     "output_type": "display_data"
    },
    {
     "data": {
      "image/png": "[encoded data removed]",
      "text/plain": [
       "<Figure size 640x480 with 1 Axes>"
      ]
     },
     "metadata": {},
     "output_type": "display_data"
    },
    {
     "data": {
      "text/plain": [
       "<Axes: title={'center': 'Dropout Counts by Intervention Group'}, xlabel='intervention_group'>"
      ]
     },
     "execution_count": 234,
     "metadata": {},
     "output_type": "execute_result"
    },
    {
     "data": {
      "image/png": "[encoded data removed]",
      "text/plain": [
       "<Figure size 700x500 with 1 Axes>"
      ]
     },
     "metadata": {},
     "output_type": "display_data"
    }
   ],
   "source": [
    "# TODO: Visualization\n",
    "\n",
    "plot_group_comparison(pd.DataFrame(cvd_rate), \"intervention_group\", \"mean_outcome_cvd_rate\", \"cvd_rate by Intervention Group\")\n",
    "\n",
    "plot_group_comparison(pd.DataFrame(mean_adherence_pct_intervention), \"intervention_group\", \"adherence_pct\", \"mean adherence_pct intervention Group\")\n",
    "\n",
    "dropout_crosstab.plot(\n",
    "    kind=\"bar\",\n",
    "    title=\"Dropout Counts by Intervention Group\",\n",
    "    figsize=(7, 5),\n",
    ")"
   ]
  },
  {
   "cell_type": "markdown",
   "metadata": {},
   "source": [
    "## Part 4: Final Report\n",
    "\n",
    "Create and save:\n",
    "1. Summary statistics by site → `output/q7_site_summary.csv`\n",
    "2. Intervention group comparison → `output/q7_intervention_comparison.csv`\n",
    "3. Text report with key findings → `output/q7_analysis_report.txt`"
   ]
  },
  {
   "cell_type": "markdown",
   "metadata": {},
   "source": [
    "Calculate mean outcome_cvd rate by intervention_group\n",
    "2. Calculate mean adherence_pct by intervention_group\n",
    "3. Create a cross-tabulation of intervention_group vs dropout status\n",
    "4. Visualize the comparison with a bar plot"
   ]
  },
  {
   "cell_type": "code",
   "execution_count": 235,
   "metadata": {},
   "outputs": [],
   "source": [
    "# TODO: Save summary outputs\n",
    "# Summary statistics by site \n",
    "statistics_by_site.to_csv('output/q7_site_summary.csv')\n",
    "# Intervention group comparison\n",
    "summary.round(2).to_csv('output/q7_intervention_comparison.csv')\n",
    "\n",
    "# Text report with key findings → `output/q7_analysis_report.txt`\n",
    "\n",
    "report = [\n",
    "    \"Final Report\",\n",
    "    \"======================\",\n",
    "    \"\",\n",
    "    \"overall statistics by site:\",\n",
    "    statistics_by_site.to_string(),\n",
    "    \"\",\n",
    "    \"Group by 'site' and apply multiple aggregations on age(mean, std, min, max), bmi(mean, std), and systolic_bp(mean, median):\",\n",
    "    summary.round(2).to_string(),\n",
    "    \"\",\n",
    "    \"Cross-tabulation of intervention_group vs dropout status:\",\n",
    "    dropout_crosstab.round(2).to_string(),\n",
    "    \"\",\n",
    "    \"1. When grouped by site, Site D shows the highest mean age and the average BMI is consistent across all different site.\",\n",
    "    \"2. The dropout condition and adherence_pct is similar across all the intervention groups.\",\n",
    "    \"3. The treatment a group got the lowest mean rate of CVD.\",\n",
    "\n",
    "]\n",
    "\n",
    "with open(\"output/q7_analysis_report.txt\", \"w\") as f:\n",
    "    f.write(\"\\n\".join(report))"
   ]
  },
  {
   "cell_type": "markdown",
   "metadata": {},
   "source": [
    "## Summary\n",
    "\n",
    "What are the 3 most important findings from your analysis?"
   ]
  },
  {
   "cell_type": "markdown",
   "metadata": {},
   "source": [
    "**Key Findings:**\n",
    "\n",
    "1. When grouped by site, Site D shows the highest mean age and the average BMI is consistent across all different site.\n",
    "2. The dropout condition and adherence_pct is similar across all the intervention groups.\n",
    "3. The treatment a group got the lowest mean rate of CVD.\n"
   ]
  }
 ],
 "metadata": {
  "kernelspec": {
   "display_name": ".venv",
   "language": "python",
   "name": "python3"
  },
  "language_info": {
   "codemirror_mode": {
    "name": "ipython",
    "version": 3
   },
   "file_extension": ".py",
   "mimetype": "text/x-python",
   "name": "python",
   "nbconvert_exporter": "python",
   "pygments_lexer": "ipython3",
   "version": "3.13.0"
  }
 },
 "nbformat": 4,
 "nbformat_minor": 2
}
